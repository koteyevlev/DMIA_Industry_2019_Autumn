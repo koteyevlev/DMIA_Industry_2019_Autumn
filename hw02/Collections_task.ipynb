{
 "cells": [
  {
   "cell_type": "markdown",
   "metadata": {},
   "source": [
    "### Входные данные\n",
    "\n",
    "У вас имеется поток данных (генератор data_stream). Поля это случайные величины - так сделано для упрощения генерации данных. Есть три поля (названы по уровню сложности задания)\n",
    "\n",
    "### Задание\n",
    "##### Мотивация:\n",
    "У вас есть куча временных рядов, вы хотите научиться предсказывать следующее значение по 1000 предыдущим. 1000 признаков окна это слишком много, однако вы решили заменить их 5ю: средним, дисперсией, минимумом, медианой и максимумом. Однако, все эти признаки надо подсчитать, причём хочется уметь это делать быстро (в течение часа)\n",
    "##### Для каждого поля нужно сделать следующее:\n",
    "\n",
    "1. Пробежаться по данным окном размера 1000 (окно сдвигается на 1, то есть следующее окно пересекается с предыдущим по 999 элементам).\n",
    "\n",
    "2. Для каждого окна посчитайте среднее значение поля и его дисперсию. Делайте yield этих значений, получая генератор tuple. \n",
    "\n",
    "3. Для каждого окна найдине минимум, медиану и максимум в нём. Делайте yield этих значений, получая генератор tuple. \n",
    "\n",
    "Ответом, который нужно будет засабмитить в гугл форму, является среднее значение tuple по получившемуся потоку, округлённое до **2го знака**.\n",
    "\n",
    "### Замечания\n",
    "\n",
    "1. Обратите внимания как генерируются поля. Постарайтесь понять особенность каждого поля и как это можно использовать. Желательно, чтобы для каждого поля у вас было своё решение, максимально эффективно использующее знание об этом поле.\n",
    "2. Полезные библиотеки: itertools, numpy, collections + всё что найдёте в интернете и можно поставить через pip install\n",
    "3. **Медианой отсортированного массива arr считайте значение arr[len(arr) // 2]**\n",
    "\n",
    "\n",
    "\n",
    "Если измерять время работы функций временем работы функции example, то примерное время работы такое:\n",
    "Одновременно среднее, дисперсия - 1 минута\n",
    "Одновременно минимум, максимум и медиана:easy - 3 минуты\n",
    "medium - 6 минут\n",
    "nightmare - 6 минут\n"
   ]
  },
  {
   "cell_type": "markdown",
   "metadata": {},
   "source": [
    "#### Генерация данных"
   ]
  },
  {
   "cell_type": "code",
   "execution_count": 2,
   "metadata": {},
   "outputs": [],
   "source": [
    "from collections import namedtuple\n",
    "import random\n",
    "\n",
    "Record = namedtuple('Record', 'easy medium nightmare')\n",
    "\n",
    "def data_stream():\n",
    "    random_generator = random.Random(42)\n",
    "    easy = 0\n",
    "    for _ in range(10000000):\n",
    "        easy += random_generator.randint(0, 2) \n",
    "        medium = random_generator.randint(0, 256 - 1)\n",
    "        nightmare = random_generator.randint(0, 1000000000 - 1)\n",
    "        \n",
    "        yield Record(\n",
    "            easy=easy,\n",
    "            medium=medium,\n",
    "            nightmare=nightmare\n",
    "        )\n",
    "        \n",
    "def easy_stream():\n",
    "    for record in data_stream():\n",
    "        yield record.easy\n",
    "        \n",
    "def medium_stream():\n",
    "    for record in data_stream():\n",
    "        yield record.medium\n",
    "        \n",
    "def nightmare_stream():\n",
    "    for record in data_stream():\n",
    "        yield record.nightmare"
   ]
  },
  {
   "cell_type": "markdown",
   "metadata": {},
   "source": [
    "#### Подсчёт среднего значения tuple по потоку"
   ]
  },
  {
   "cell_type": "code",
   "execution_count": 19,
   "metadata": {},
   "outputs": [],
   "source": [
    "from statistics import median\n",
    "\n",
    "def create_mean_stream(stream):\n",
    "    out = []\n",
    "    for i in stream:\n",
    "        out.append(i)\n",
    "        if len(out) == 1001:\n",
    "            out = out[1:]\n",
    "        if len(out) == 1000:\n",
    "            yield sum(out) / 1000\n",
    "            \n",
    "def create_median_stream(stream):\n",
    "    out = []\n",
    "    for i in stream:\n",
    "        out.append(i)\n",
    "        if len(out) == 1001:\n",
    "            out = out[1:]\n",
    "        if len(out) == 1000:\n",
    "            yield median(out)"
   ]
  },
  {
   "cell_type": "code",
   "execution_count": 27,
   "metadata": {},
   "outputs": [],
   "source": [
    "def create_variance_stream(stream):\n",
    "    out = []\n",
    "    for i in stream:\n",
    "        out.append(i)\n",
    "        if len(out) == 1001:\n",
    "            out = out[1:]\n",
    "        if len(out) == 1000:\n",
    "            yield np.var(np.array(out))"
   ]
  },
  {
   "cell_type": "code",
   "execution_count": 14,
   "metadata": {},
   "outputs": [],
   "source": [
    "import numpy as np\n",
    "\n",
    "def get_tuple_stream_mean(stream, number_of_values):\n",
    "    result = np.zeros(number_of_values, dtype='object')\n",
    "    count = 0. \n",
    "    for streamed_tuple in stream:\n",
    "        result += streamed_tuple\n",
    "        count += 1\n",
    "    return ['{:0.2f}'.format(x) for x in result / count]"
   ]
  },
  {
   "cell_type": "code",
   "execution_count": 15,
   "metadata": {},
   "outputs": [
    {
     "name": "stdout",
     "output_type": "stream",
     "text": [
      "['4999675.28']\n",
      "Wall time: 5min 49s\n"
     ]
    }
   ],
   "source": [
    "%%time\n",
    "def southen(stream):\n",
    "    out = []\n",
    "    for value in stream:\n",
    "        if len(out) < 1000:\n",
    "            out.append(i)\n",
    "            flag = True\n",
    "        else:\n",
    "            if flag:\n",
    "                flag = False\n",
    "                yield out\n",
    "            else:\n",
    "                out = out[1:] + value\n",
    "                yield out\n",
    "\n",
    "print(get_tuple_stream_mean(create_mean_stream(easy_stream()), 1))"
   ]
  },
  {
   "cell_type": "code",
   "execution_count": 16,
   "metadata": {},
   "outputs": [
    {
     "name": "stdout",
     "output_type": "stream",
     "text": [
      "['127.48']\n",
      "['499880345.88']\n"
     ]
    }
   ],
   "source": [
    "print(get_tuple_stream_mean(create_mean_stream(medium_stream()), 1))\n",
    "print(get_tuple_stream_mean(create_mean_stream(nightmare_stream()), 1))"
   ]
  },
  {
   "cell_type": "code",
   "execution_count": 20,
   "metadata": {},
   "outputs": [
    {
     "name": "stdout",
     "output_type": "stream",
     "text": [
      "['127.47']\n",
      "['499938215.19']\n",
      "['4999675.28']\n",
      "Wall time: 47min 33s\n"
     ]
    }
   ],
   "source": [
    "%%time\n",
    "print(get_tuple_stream_mean(create_median_stream(medium_stream()), 1))\n",
    "print(get_tuple_stream_mean(create_median_stream(nightmare_stream()), 1))\n",
    "print(get_tuple_stream_mean(create_median_stream(easy_stream()), 1))"
   ]
  },
  {
   "cell_type": "code",
   "execution_count": 28,
   "metadata": {},
   "outputs": [
    {
     "name": "stdout",
     "output_type": "stream",
     "text": [
      "['5455.17']\n",
      "['83228908564027760.00']\n",
      "['83439.34']\n",
      "Wall time: 1h 3min 18s\n"
     ]
    }
   ],
   "source": [
    "%%time\n",
    "print(get_tuple_stream_mean(create_variance_stream(medium_stream()), 1))\n",
    "print(get_tuple_stream_mean(create_variance_stream(nightmare_stream()), 1))\n",
    "print(get_tuple_stream_mean(create_variance_stream(easy_stream()), 1))"
   ]
  },
  {
   "cell_type": "code",
   "execution_count": 23,
   "metadata": {},
   "outputs": [
    {
     "name": "stdout",
     "output_type": "stream",
     "text": [
      "Wall time: 0 ns\n"
     ]
    }
   ],
   "source": [
    "%%time\n",
    "def example(stream):\n",
    "    for value in stream:\n",
    "        yield (value, value + 10)\n",
    "#print(get_tuple_stream_mean(example(easy_stream()), 2))\n",
    "#print(get_tuple_stream_mean(example(easy_stream()), 2))\n",
    "#print(get_tuple_stream_mean(example(easy_stream()), 2))"
   ]
  },
  {
   "cell_type": "code",
   "execution_count": 17,
   "metadata": {},
   "outputs": [
    {
     "name": "stdout",
     "output_type": "stream",
     "text": [
      "Wall time: 1min 34s\n"
     ]
    },
    {
     "data": {
      "text/plain": [
       "9999662.0"
      ]
     },
     "execution_count": 17,
     "metadata": {},
     "output_type": "execute_result"
    }
   ],
   "source": [
    "%%time\n",
    "leng = 0\n",
    "mean_easy = 0\n",
    "for i in easy_stream():\n",
    "    mean_easy = (leng / (leng + 1)) * mean_easy + (1 / (leng + 1)) * i\n",
    "mean_easy"
   ]
  },
  {
   "cell_type": "code",
   "execution_count": 21,
   "metadata": {},
   "outputs": [
    {
     "name": "stdout",
     "output_type": "stream",
     "text": [
      "easy -  2 9999662\n",
      "medium -  0 255\n",
      "nightmare -  264 999999910\n",
      "Wall time: 4min 37s\n"
     ]
    }
   ],
   "source": [
    "%%time\n",
    "min_f = 1e+10\n",
    "max_f = 1\n",
    "for i in easy_stream():\n",
    "    if i < min_f:\n",
    "        min_f = i\n",
    "    if i > max_f:\n",
    "        max_f = i\n",
    "print(\"easy - \", min_f, max_f)\n",
    "min_f = 1e+10\n",
    "max_f = 1\n",
    "for i in medium_stream():\n",
    "    if i < min_f:\n",
    "        min_f = i\n",
    "    if i > max_f:\n",
    "        max_f = i\n",
    "print(\"medium - \", min_f, max_f)\n",
    "min_f = 1e+10\n",
    "max_f = 1\n",
    "for i in nightmare_stream():\n",
    "    if i < min_f:\n",
    "        min_f = i\n",
    "    if i > max_f:\n",
    "        max_f = i\n",
    "print(\"nightmare - \", min_f, max_f)"
   ]
  },
  {
   "cell_type": "code",
   "execution_count": null,
   "metadata": {},
   "outputs": [],
   "source": []
  },
  {
   "cell_type": "code",
   "execution_count": null,
   "metadata": {},
   "outputs": [],
   "source": []
  }
 ],
 "metadata": {
  "kernelspec": {
   "display_name": "Python 3",
   "language": "python",
   "name": "python3"
  },
  "language_info": {
   "codemirror_mode": {
    "name": "ipython",
    "version": 3
   },
   "file_extension": ".py",
   "mimetype": "text/x-python",
   "name": "python",
   "nbconvert_exporter": "python",
   "pygments_lexer": "ipython3",
   "version": "3.7.3"
  }
 },
 "nbformat": 4,
 "nbformat_minor": 1
}
